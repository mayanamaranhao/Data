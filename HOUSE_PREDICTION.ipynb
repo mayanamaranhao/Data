{
 "cells": [
  {
   "cell_type": "markdown",
   "metadata": {},
   "source": [
    "#### Libraries"
   ]
  },
  {
   "cell_type": "code",
   "execution_count": 34,
   "metadata": {},
   "outputs": [],
   "source": [
    "import numpy as np\n",
    "import pandas as pd\n",
    "import matplotlib.pyplot as plt\n",
    "import seaborn as sns\n",
    "\n",
    "from plotly.offline import init_notebook_mode, iplot\n",
    "from sklearn import metrics\n",
    "from sklearn.metrics import mean_squared_error, mean_absolute_error\n",
    "from sklearn.preprocessing import StandardScaler, RobustScaler, LabelEncoder\n",
    "from sklearn.metrics import mean_squared_error\n",
    "from sklearn.model_selection import train_test_split, GridSearchCV, cross_validate, cross_val_score, validation_curve\n",
    "from sklearn.metrics import accuracy_score,f1_score,recall_score,precision_score,roc_auc_score\n",
    "from catboost import CatBoostRegressor\n",
    "from lightgbm import LGBMRegressor\n",
    "from sklearn.ensemble import RandomForestRegressor, GradientBoostingRegressor\n",
    "from sklearn.linear_model import LinearRegression, Ridge, Lasso, ElasticNet\n",
    "from sklearn.neighbors import KNeighborsRegressor\n",
    "from sklearn.svm import SVR\n",
    "from sklearn.tree import DecisionTreeRegressor\n",
    "from xgboost import XGBRegressor"
   ]
  },
  {
   "cell_type": "markdown",
   "metadata": {},
   "source": [
    "#### Informations about dataset\n",
    "\n",
    "\n",
    "### Terminology \n",
    "\n",
    "    - BHK: Number of Bedrooms, Hall, Kitchen.\n",
    "\n",
    "    - Rent: Rent of the Houses/Apartments/Flats.\n",
    "\n",
    "    -Size: Size of the Houses/Apartments/Flats in Square Feet.\n",
    "    \n",
    "    -Floor: Houses/Apartments/Flats situated in which Floor and Total Number of Floors (Example: Ground out of 2, 3 out of 5, etc.)\n",
    "    \n",
    "    -Area Type: Size of the Houses/Apartments/Flats calculated on either Super Area or Carpet Area or Build Area.\n",
    "    \n",
    "    -Area Locality: Locality of the Houses/Apartments/Flats.\n",
    "    \n",
    "    -City: City where the Houses/Apartments/Flats are Located.\n",
    "    \n",
    "    -Furnishing Status: Furnishing Status of the Houses/Apartments/Flats, either it is Furnished or Semi-Furnished or Unfurnished.\n",
    "    \n",
    "    -Tenant Preferred: Type of Tenant Preferred by the Owner or Agent.\n",
    "    \n",
    "    -Bathroom: Number of Bathrooms.\n",
    "    \n",
    "    -Point of Contact: Whom should you contact for more information regarding the Houses/Apartments/Flats."
   ]
  },
  {
   "cell_type": "code",
   "execution_count": 44,
   "metadata": {},
   "outputs": [
    {
     "data": {
      "text/html": [
       "<div>\n",
       "<style scoped>\n",
       "    .dataframe tbody tr th:only-of-type {\n",
       "        vertical-align: middle;\n",
       "    }\n",
       "\n",
       "    .dataframe tbody tr th {\n",
       "        vertical-align: top;\n",
       "    }\n",
       "\n",
       "    .dataframe thead th {\n",
       "        text-align: right;\n",
       "    }\n",
       "</style>\n",
       "<table border=\"1\" class=\"dataframe\">\n",
       "  <thead>\n",
       "    <tr style=\"text-align: right;\">\n",
       "      <th></th>\n",
       "      <th>Posted On</th>\n",
       "      <th>BHK</th>\n",
       "      <th>Rent</th>\n",
       "      <th>Size</th>\n",
       "      <th>Floor</th>\n",
       "      <th>Area Type</th>\n",
       "      <th>Area Locality</th>\n",
       "      <th>City</th>\n",
       "      <th>Furnishing Status</th>\n",
       "      <th>Tenant Preferred</th>\n",
       "      <th>Bathroom</th>\n",
       "      <th>Point of Contact</th>\n",
       "    </tr>\n",
       "  </thead>\n",
       "  <tbody>\n",
       "    <tr>\n",
       "      <th>0</th>\n",
       "      <td>2022-05-18</td>\n",
       "      <td>2</td>\n",
       "      <td>10000</td>\n",
       "      <td>1100</td>\n",
       "      <td>Ground out of 2</td>\n",
       "      <td>Super Area</td>\n",
       "      <td>Bandel</td>\n",
       "      <td>Kolkata</td>\n",
       "      <td>Unfurnished</td>\n",
       "      <td>Bachelors/Family</td>\n",
       "      <td>2</td>\n",
       "      <td>Contact Owner</td>\n",
       "    </tr>\n",
       "    <tr>\n",
       "      <th>1</th>\n",
       "      <td>2022-05-13</td>\n",
       "      <td>2</td>\n",
       "      <td>20000</td>\n",
       "      <td>800</td>\n",
       "      <td>1 out of 3</td>\n",
       "      <td>Super Area</td>\n",
       "      <td>Phool Bagan, Kankurgachi</td>\n",
       "      <td>Kolkata</td>\n",
       "      <td>Semi-Furnished</td>\n",
       "      <td>Bachelors/Family</td>\n",
       "      <td>1</td>\n",
       "      <td>Contact Owner</td>\n",
       "    </tr>\n",
       "    <tr>\n",
       "      <th>2</th>\n",
       "      <td>2022-05-16</td>\n",
       "      <td>2</td>\n",
       "      <td>17000</td>\n",
       "      <td>1000</td>\n",
       "      <td>1 out of 3</td>\n",
       "      <td>Super Area</td>\n",
       "      <td>Salt Lake City Sector 2</td>\n",
       "      <td>Kolkata</td>\n",
       "      <td>Semi-Furnished</td>\n",
       "      <td>Bachelors/Family</td>\n",
       "      <td>1</td>\n",
       "      <td>Contact Owner</td>\n",
       "    </tr>\n",
       "    <tr>\n",
       "      <th>3</th>\n",
       "      <td>2022-07-04</td>\n",
       "      <td>2</td>\n",
       "      <td>10000</td>\n",
       "      <td>800</td>\n",
       "      <td>1 out of 2</td>\n",
       "      <td>Super Area</td>\n",
       "      <td>Dumdum Park</td>\n",
       "      <td>Kolkata</td>\n",
       "      <td>Unfurnished</td>\n",
       "      <td>Bachelors/Family</td>\n",
       "      <td>1</td>\n",
       "      <td>Contact Owner</td>\n",
       "    </tr>\n",
       "    <tr>\n",
       "      <th>4</th>\n",
       "      <td>2022-05-09</td>\n",
       "      <td>2</td>\n",
       "      <td>7500</td>\n",
       "      <td>850</td>\n",
       "      <td>1 out of 2</td>\n",
       "      <td>Carpet Area</td>\n",
       "      <td>South Dum Dum</td>\n",
       "      <td>Kolkata</td>\n",
       "      <td>Unfurnished</td>\n",
       "      <td>Bachelors</td>\n",
       "      <td>1</td>\n",
       "      <td>Contact Owner</td>\n",
       "    </tr>\n",
       "  </tbody>\n",
       "</table>\n",
       "</div>"
      ],
      "text/plain": [
       "    Posted On  BHK   Rent  Size            Floor    Area Type  \\\n",
       "0  2022-05-18    2  10000  1100  Ground out of 2   Super Area   \n",
       "1  2022-05-13    2  20000   800       1 out of 3   Super Area   \n",
       "2  2022-05-16    2  17000  1000       1 out of 3   Super Area   \n",
       "3  2022-07-04    2  10000   800       1 out of 2   Super Area   \n",
       "4  2022-05-09    2   7500   850       1 out of 2  Carpet Area   \n",
       "\n",
       "              Area Locality     City Furnishing Status  Tenant Preferred  \\\n",
       "0                    Bandel  Kolkata       Unfurnished  Bachelors/Family   \n",
       "1  Phool Bagan, Kankurgachi  Kolkata    Semi-Furnished  Bachelors/Family   \n",
       "2   Salt Lake City Sector 2  Kolkata    Semi-Furnished  Bachelors/Family   \n",
       "3               Dumdum Park  Kolkata       Unfurnished  Bachelors/Family   \n",
       "4             South Dum Dum  Kolkata       Unfurnished         Bachelors   \n",
       "\n",
       "   Bathroom Point of Contact  \n",
       "0         2    Contact Owner  \n",
       "1         1    Contact Owner  \n",
       "2         1    Contact Owner  \n",
       "3         1    Contact Owner  \n",
       "4         1    Contact Owner  "
      ]
     },
     "execution_count": 44,
     "metadata": {},
     "output_type": "execute_result"
    }
   ],
   "source": [
    "df = pd.read_csv(r'C:\\Users\\Mayana Maranhão\\Documents\\GitHub\\Projetos\\House Prediction\\House_Rent_Dataset.csv')\n",
    "df.head()"
   ]
  },
  {
   "cell_type": "markdown",
   "metadata": {},
   "source": [
    "### Checking missing values"
   ]
  },
  {
   "cell_type": "code",
   "execution_count": 45,
   "metadata": {},
   "outputs": [
    {
     "data": {
      "text/plain": [
       "Posted On            0\n",
       "BHK                  0\n",
       "Rent                 0\n",
       "Size                 0\n",
       "Floor                0\n",
       "Area Type            0\n",
       "Area Locality        0\n",
       "City                 0\n",
       "Furnishing Status    0\n",
       "Tenant Preferred     0\n",
       "Bathroom             0\n",
       "Point of Contact     0\n",
       "dtype: int64"
      ]
     },
     "execution_count": 45,
     "metadata": {},
     "output_type": "execute_result"
    }
   ],
   "source": [
    "df.isna().sum()"
   ]
  },
  {
   "cell_type": "code",
   "execution_count": 47,
   "metadata": {},
   "outputs": [],
   "source": [
    "# Categoric variables effect on target\n",
    "def target_summary_with_cat(dataframe, target, categorical_col, plot=False):\n",
    "\n",
    "    print(pd.DataFrame({\"TARGET_MEAN\": dataframe.groupby([categorical_col])[target].mean(),\n",
    "                        \"TARGET_SUM\" : dataframe.groupby([categorical_col])[target].sum()}), end=\"\\n\\n\\n\")"
   ]
  },
  {
   "cell_type": "code",
   "execution_count": 48,
   "metadata": {},
   "outputs": [
    {
     "name": "stdout",
     "output_type": "stream",
     "text": [
      "              TARGET_MEAN  TARGET_SUM\n",
      "Area Type                            \n",
      "Built Area   10500.000000       21000\n",
      "Carpet Area  52385.897302   120382792\n",
      "Super Area   18673.396566    45675128\n",
      "\n",
      "\n",
      "            TARGET_MEAN  TARGET_SUM\n",
      "City                               \n",
      "Bangalore  24966.365688    22120200\n",
      "Chennai    21614.092031    19258156\n",
      "Delhi      29461.983471    17824500\n",
      "Hyderabad  20555.048387    17841782\n",
      "Kolkata    11645.173664     6102071\n",
      "Mumbai     85321.204733    82932211\n",
      "\n",
      "\n",
      "                    TARGET_MEAN  TARGET_SUM\n",
      "Furnishing Status                          \n",
      "Furnished          56110.305882    38155008\n",
      "Semi-Furnished     38718.810751    87156043\n",
      "Unfurnished        22461.635813    40767869\n",
      "\n",
      "\n",
      "                   TARGET_MEAN  TARGET_SUM\n",
      "Tenant Preferred                          \n",
      "Bachelors         42143.793976    34979349\n",
      "Bachelors/Family  31210.792683   107489970\n",
      "Family            50020.341102    23609601\n",
      "\n",
      "\n",
      "                   TARGET_MEAN  TARGET_SUM\n",
      "Point of Contact                          \n",
      "Contact Agent     73481.158927   112352692\n",
      "Contact Builder    5500.000000        5500\n",
      "Contact Owner     16704.206468    53720728\n",
      "\n",
      "\n",
      "       TARGET_MEAN  TARGET_SUM\n",
      "BHK                           \n",
      "1     14139.223650    16500474\n",
      "2     22113.864018    50087902\n",
      "3     55863.062842    61337643\n",
      "4    168864.555556    31915401\n",
      "5    297500.000000     5652500\n",
      "6     73125.000000      585000\n",
      "\n",
      "\n",
      "            TARGET_MEAN  TARGET_SUM\n",
      "Bathroom                           \n",
      "1          11862.162144    17484827\n",
      "2          25043.538193    57374746\n",
      "3          63176.698264    47319347\n",
      "4         167846.153846    26184000\n",
      "5         252350.000000    15141000\n",
      "6         177500.000000     2130000\n",
      "7          81666.666667      245000\n",
      "10        200000.000000      200000\n",
      "\n",
      "\n"
     ]
    }
   ],
   "source": [
    "for col in cat_cols:\n",
    "    target_summary_with_cat(df,'Rent',col)"
   ]
  },
  {
   "cell_type": "code",
   "execution_count": 49,
   "metadata": {},
   "outputs": [
    {
     "data": {
      "text/plain": [
       "Super Area     2446\n",
       "Carpet Area    2298\n",
       "Built Area        2\n",
       "Name: Area Type, dtype: int64"
      ]
     },
     "execution_count": 49,
     "metadata": {},
     "output_type": "execute_result"
    }
   ],
   "source": [
    "# Examine Some Variables\n",
    "\n",
    "df['Area Type'].value_counts()"
   ]
  },
  {
   "cell_type": "code",
   "execution_count": 39,
   "metadata": {},
   "outputs": [],
   "source": [
    "# We saw Built Area non functional we can replace with mode of area type\n",
    "df['Area Type'].replace({'Built Area': 'Super Area'}, inplace=True)"
   ]
  },
  {
   "cell_type": "code",
   "execution_count": 50,
   "metadata": {},
   "outputs": [],
   "source": [
    "df['Point of Contact'].value_counts()\n",
    "df['Point of Contact'].replace({'Contact Builder': 'Contact Owner'}, inplace=True)"
   ]
  },
  {
   "cell_type": "code",
   "execution_count": 51,
   "metadata": {},
   "outputs": [],
   "source": [
    "# Splitting posted on column and creating new variables\n",
    "df['Post_Day'] = df['Posted On'].apply(lambda x: x.split('-')[-1])\n",
    "df['Post_Month'] = df['Posted On'].apply(lambda x: x.split('-')[1])\n",
    "df.drop('Posted On', axis=1, inplace=True)"
   ]
  },
  {
   "cell_type": "code",
   "execution_count": 53,
   "metadata": {},
   "outputs": [],
   "source": [
    "# Floor Column\n",
    "df['Floor'] = df['Floor'].apply(lambda x: x.split(' ')[0])\n",
    "df['Floor'].replace({'Ground': 0, 'Upper': 2, 'Lower': 1}, inplace=True)"
   ]
  },
  {
   "cell_type": "markdown",
   "metadata": {},
   "source": [
    "#### EDA "
   ]
  },
  {
   "cell_type": "code",
   "execution_count": 54,
   "metadata": {},
   "outputs": [
    {
     "name": "stdout",
     "output_type": "stream",
     "text": [
      "Observations: 4746\n",
      "Variables: 13\n",
      "cat_cols: 8\n",
      "num_cols: 4\n",
      "cat_but_car: 3\n",
      "num_but_cat: 2\n"
     ]
    }
   ],
   "source": [
    "## Grabbing Columns\n",
    "def grab_col_names(dataframe, cat_th=10, car_th=20):\n",
    "    # cat_cols, cat_but_car\n",
    "    cat_cols = [col for col in dataframe.columns if dataframe[col].dtypes == \"O\"]\n",
    "\n",
    "    num_but_cat = [col for col in dataframe.columns if dataframe[col].nunique() < cat_th and\n",
    "                   dataframe[col].dtypes != \"O\"]\n",
    "\n",
    "    cat_but_car = [col for col in dataframe.columns if dataframe[col].nunique() > car_th and\n",
    "                   dataframe[col].dtypes == \"O\"]\n",
    "\n",
    "    cat_cols = cat_cols + num_but_cat\n",
    "\n",
    "    cat_cols = [col for col in cat_cols if col not in cat_but_car]\n",
    "\n",
    "    # num_cols\n",
    "    num_cols = [col for col in dataframe.columns if dataframe[col].dtypes != \"O\"]\n",
    "\n",
    "\n",
    "    print(f\"Observations: {dataframe.shape[0]}\")\n",
    "    print(f\"Variables: {dataframe.shape[1]}\")\n",
    "    print(f'cat_cols: {len(cat_cols)}')\n",
    "    print(f'num_cols: {len(num_cols)}')\n",
    "    print(f'cat_but_car: {len(cat_but_car)}')\n",
    "    print(f'num_but_cat: {len(num_but_cat)}')\n",
    "\n",
    "    return cat_cols, num_cols, cat_but_car\n",
    "\n",
    "cat_cols, num_cols, cat_but_car = grab_col_names(df)"
   ]
  },
  {
   "cell_type": "code",
   "execution_count": 57,
   "metadata": {},
   "outputs": [],
   "source": [
    "def num_plot(data, cat_length=16, remove=[\"Id\"], hist_bins=12, figsize=(20, 4)):\n",
    "    num_cols = [col for col in data.columns if data[col].dtypes != \"O\"\n",
    "                and len(data[col].unique()) >= cat_length]\n",
    "\n",
    "    if len(remove) > 0:\n",
    "        num_cols = list(set(num_cols).difference(remove))\n",
    "\n",
    "    for i in num_cols:\n",
    "        fig, axes = plt.subplots(1, 3, figsize=figsize)\n",
    "        data.hist(str(i), bins=hist_bins, ax=axes[0])\n",
    "        data.boxplot(str(i), ax=axes[1], vert=False);\n",
    "        try:\n",
    "            sns.kdeplot(np.array(data[str(i)]))\n",
    "        except:\n",
    "            ValueError\n",
    "\n",
    "        axes[1].set_yticklabels([])\n",
    "        axes[1].set_yticks([])\n",
    "        axes[0].set_title(i + \" | Histogram\")\n",
    "        axes[1].set_title(i + \" | Boxplot\")\n",
    "        axes[2].set_title(i + \" | Density\")\n",
    "        plt.show()"
   ]
  },
  {
   "cell_type": "code",
   "execution_count": 58,
   "metadata": {},
   "outputs": [
    {
     "data": {
      "image/png": "[encoded data removed]",
      "text/plain": [
       "<Figure size 1440x288 with 3 Axes>"
      ]
     },
     "metadata": {
      "needs_background": "light"
     },
     "output_type": "display_data"
    },
    {
     "data": {
      "image/png": "[encoded data removed]",
      "text/plain": [
       "<Figure size 1440x288 with 3 Axes>"
      ]
     },
     "metadata": {
      "needs_background": "light"
     },
     "output_type": "display_data"
    }
   ],
   "source": [
    "# Numeric Variable Analysis\n",
    "num_plot(df)"
   ]
  },
  {
   "cell_type": "code",
   "execution_count": 63,
   "metadata": {},
   "outputs": [
    {
     "data": {
      "text/plain": [
       "<AxesSubplot: >"
      ]
     },
     "execution_count": 63,
     "metadata": {},
     "output_type": "execute_result"
    },
    {
     "data": {
      "image/png": "[encoded data removed]",
      "text/plain": [
       "<Figure size 432x288 with 2 Axes>"
      ]
     },
     "metadata": {
      "needs_background": "light"
     },
     "output_type": "display_data"
    }
   ],
   "source": [
    "# Correlation Analysis\n",
    "sns.heatmap(data=df.corr(),cmap='Reds',annot=True)"
   ]
  },
  {
   "cell_type": "markdown",
   "metadata": {},
   "source": [
    "#### Outlier Analysis"
   ]
  },
  {
   "cell_type": "code",
   "execution_count": 64,
   "metadata": {},
   "outputs": [
    {
     "name": "stdout",
     "output_type": "stream",
     "text": [
      "BHK True\n",
      "Rent True\n",
      "Size True\n",
      "Bathroom True\n"
     ]
    }
   ],
   "source": [
    "# Checking outlier\n",
    "def outlier_thresholds(dataframe, col_name, q1=0.25, q3=0.75):\n",
    "    quartile1 = dataframe[col_name].quantile(q1)\n",
    "    quartile3 = dataframe[col_name].quantile(q3)\n",
    "    interquantile_range = quartile3 - quartile1\n",
    "    up_limit = quartile3 + 1.5 * interquantile_range\n",
    "    low_limit = quartile1 - 1.5 * interquantile_range\n",
    "    return low_limit, up_limit\n",
    "\n",
    "def check_outlier(dataframe, col_name):\n",
    "    low_limit, up_limit = outlier_thresholds(dataframe, col_name)\n",
    "    if dataframe[(dataframe[col_name] > up_limit) | (dataframe[col_name] < low_limit)].any(axis=None):\n",
    "        return True\n",
    "    else:\n",
    "        return False\n",
    "    \n",
    "for col in num_cols:\n",
    "    print(col,check_outlier(df,col))"
   ]
  },
  {
   "cell_type": "code",
   "execution_count": 65,
   "metadata": {},
   "outputs": [],
   "source": [
    "# Replace Size variable with thresholds\n",
    "def replace_with_thresholds(dataframe, variable):\n",
    "    low_limit, up_limit = outlier_thresholds(dataframe, variable)\n",
    "    dataframe.loc[(dataframe[variable] < low_limit), variable] = low_limit\n",
    "    dataframe.loc[(dataframe[variable] > up_limit), variable] = up_limit\n",
    "    \n",
    "replace_with_thresholds(df,'Rent')\n",
    "replace_with_thresholds(df,'Size')"
   ]
  },
  {
   "cell_type": "code",
   "execution_count": 66,
   "metadata": {},
   "outputs": [
    {
     "name": "stdout",
     "output_type": "stream",
     "text": [
      "BHK True\n",
      "Rent False\n",
      "Size False\n",
      "Bathroom True\n"
     ]
    }
   ],
   "source": [
    "# Checking Again\n",
    "for col in num_cols:\n",
    "    print(col,check_outlier(df,col))\n",
    "    \n",
    "# Wee saw false"
   ]
  },
  {
   "cell_type": "markdown",
   "metadata": {},
   "source": [
    "#### Feature Engineering"
   ]
  },
  {
   "cell_type": "code",
   "execution_count": 67,
   "metadata": {},
   "outputs": [],
   "source": [
    "# Dropping unnecesaary columns from dataset\n",
    "df.drop(['Area Locality'], axis=1, inplace=True)"
   ]
  },
  {
   "cell_type": "code",
   "execution_count": 69,
   "metadata": {},
   "outputs": [],
   "source": [
    "# Creating New Variables\n",
    "df['Size_Per_Room'] = df['Size'] / (df['BHK'] + 1)\n",
    "df['Size_Mul_Room'] = df['Size'] * (df['BHK']  + 1)\n",
    "\n",
    "df['Room_Plus_Bath'] = df['BHK'] + df['Bathroom']\n",
    "df['Room_Mul_Bath'] = (df['BHK'] + 1) * (df['Bathroom'] + 1)\n",
    "\n",
    "df['Size_Per_RoomBath'] = df['Size'] / df['Room_Plus_Bath']\n",
    "df['Size_Per_RoomMulBath'] = df['Size'] / df['Room_Mul_Bath']\n",
    "\n",
    "df['CITY_RENT_MEAN'] = df.groupby('City')['Rent'].transform('mean')\n",
    "df['CITY_RENT_MAX'] = df.groupby('City')['Rent'].transform('max')\n",
    "df['CITY_RENT_MIN'] = df.groupby('City')['Rent'].transform('min')\n",
    "df['CITY_SIZE_MEAN'] = df.groupby('City')['Size'].transform('mean')\n",
    "df['CITY_SIZE_MAX'] = df.groupby('City')['Size'].transform('max')\n",
    "df['CITY_SIZE_MIN'] = df.groupby('City')['Size'].transform('min')\n",
    "\n",
    "df['Size_Mean_Rat'] = df['CITY_SIZE_MEAN'] / df['Size']\n",
    "df['Size_Max_Rat'] = df['CITY_SIZE_MAX'] / df['Size']\n",
    "df['Size_Min_Rat'] = df['CITY_SIZE_MIN'] / df['Size']"
   ]
  },
  {
   "cell_type": "code",
   "execution_count": 70,
   "metadata": {},
   "outputs": [
    {
     "data": {
      "text/plain": [
       "Area\n",
       "Big       44800.005540\n",
       "Middle    24953.780534\n",
       "Small     16573.960062\n",
       "Name: Rent, dtype: float64"
      ]
     },
     "execution_count": 70,
     "metadata": {},
     "output_type": "execute_result"
    }
   ],
   "source": [
    "df.loc[(df['Size'] < 750), 'Area'] = 'Small'\n",
    "df.loc[(df['Size'] >= 750) & (df['Size'] < 1500), 'Area'] = 'Middle'\n",
    "df.loc[(df['Size'] >= 1500) & (df['Size'] <= df['Size'].max()), 'Area'] = 'Big'\n",
    "df.groupby(by = 'Area')['Rent'].mean()"
   ]
  },
  {
   "cell_type": "code",
   "execution_count": 72,
   "metadata": {},
   "outputs": [],
   "source": [
    "df['Furnishing Status'].replace({'Unfurnished': 0, 'Semi-Furnished': 1, 'Furnished': 2}, inplace=True)\n",
    "df['Size_Mul_Furn'] = df['Size'] * (df['Furnishing Status'] + 1)\n",
    "df['Num_Plus_Furn'] = df['BHK'] + df['Furnishing Status']\n",
    "df['Size_Mul_NumPlusFurn'] = df['Size'] * df['Num_Plus_Furn']\n",
    "df['Bath_Plus_Furn'] = df['Bathroom'] + df['Furnishing Status']\n",
    "df['Total_Num_Plus_Furn'] = df['Room_Plus_Bath'] + df['Furnishing Status']\n",
    "df['Size_Per_Total'] = df['Size'] / df['Total_Num_Plus_Furn']"
   ]
  },
  {
   "cell_type": "code",
   "execution_count": 52,
   "metadata": {},
   "outputs": [
    {
     "data": {
      "text/html": [
       "<div>\n",
       "<style scoped>\n",
       "    .dataframe tbody tr th:only-of-type {\n",
       "        vertical-align: middle;\n",
       "    }\n",
       "\n",
       "    .dataframe tbody tr th {\n",
       "        vertical-align: top;\n",
       "    }\n",
       "\n",
       "    .dataframe thead th {\n",
       "        text-align: right;\n",
       "    }\n",
       "</style>\n",
       "<table border=\"1\" class=\"dataframe\">\n",
       "  <thead>\n",
       "    <tr style=\"text-align: right;\">\n",
       "      <th></th>\n",
       "      <th>BHK</th>\n",
       "      <th>Rent</th>\n",
       "      <th>Size</th>\n",
       "      <th>Floor</th>\n",
       "      <th>Area Type</th>\n",
       "      <th>Area Locality</th>\n",
       "      <th>City</th>\n",
       "      <th>Furnishing Status</th>\n",
       "      <th>Tenant Preferred</th>\n",
       "      <th>Bathroom</th>\n",
       "      <th>Point of Contact</th>\n",
       "      <th>Post_Day</th>\n",
       "      <th>Post_Month</th>\n",
       "    </tr>\n",
       "  </thead>\n",
       "  <tbody>\n",
       "    <tr>\n",
       "      <th>0</th>\n",
       "      <td>2</td>\n",
       "      <td>10000</td>\n",
       "      <td>1100</td>\n",
       "      <td>Ground out of 2</td>\n",
       "      <td>Super Area</td>\n",
       "      <td>Bandel</td>\n",
       "      <td>Kolkata</td>\n",
       "      <td>Unfurnished</td>\n",
       "      <td>Bachelors/Family</td>\n",
       "      <td>2</td>\n",
       "      <td>Contact Owner</td>\n",
       "      <td>18</td>\n",
       "      <td>05</td>\n",
       "    </tr>\n",
       "    <tr>\n",
       "      <th>1</th>\n",
       "      <td>2</td>\n",
       "      <td>20000</td>\n",
       "      <td>800</td>\n",
       "      <td>1 out of 3</td>\n",
       "      <td>Super Area</td>\n",
       "      <td>Phool Bagan, Kankurgachi</td>\n",
       "      <td>Kolkata</td>\n",
       "      <td>Semi-Furnished</td>\n",
       "      <td>Bachelors/Family</td>\n",
       "      <td>1</td>\n",
       "      <td>Contact Owner</td>\n",
       "      <td>13</td>\n",
       "      <td>05</td>\n",
       "    </tr>\n",
       "    <tr>\n",
       "      <th>2</th>\n",
       "      <td>2</td>\n",
       "      <td>17000</td>\n",
       "      <td>1000</td>\n",
       "      <td>1 out of 3</td>\n",
       "      <td>Super Area</td>\n",
       "      <td>Salt Lake City Sector 2</td>\n",
       "      <td>Kolkata</td>\n",
       "      <td>Semi-Furnished</td>\n",
       "      <td>Bachelors/Family</td>\n",
       "      <td>1</td>\n",
       "      <td>Contact Owner</td>\n",
       "      <td>16</td>\n",
       "      <td>05</td>\n",
       "    </tr>\n",
       "    <tr>\n",
       "      <th>3</th>\n",
       "      <td>2</td>\n",
       "      <td>10000</td>\n",
       "      <td>800</td>\n",
       "      <td>1 out of 2</td>\n",
       "      <td>Super Area</td>\n",
       "      <td>Dumdum Park</td>\n",
       "      <td>Kolkata</td>\n",
       "      <td>Unfurnished</td>\n",
       "      <td>Bachelors/Family</td>\n",
       "      <td>1</td>\n",
       "      <td>Contact Owner</td>\n",
       "      <td>04</td>\n",
       "      <td>07</td>\n",
       "    </tr>\n",
       "    <tr>\n",
       "      <th>4</th>\n",
       "      <td>2</td>\n",
       "      <td>7500</td>\n",
       "      <td>850</td>\n",
       "      <td>1 out of 2</td>\n",
       "      <td>Carpet Area</td>\n",
       "      <td>South Dum Dum</td>\n",
       "      <td>Kolkata</td>\n",
       "      <td>Unfurnished</td>\n",
       "      <td>Bachelors</td>\n",
       "      <td>1</td>\n",
       "      <td>Contact Owner</td>\n",
       "      <td>09</td>\n",
       "      <td>05</td>\n",
       "    </tr>\n",
       "  </tbody>\n",
       "</table>\n",
       "</div>"
      ],
      "text/plain": [
       "   BHK   Rent  Size            Floor    Area Type             Area Locality  \\\n",
       "0    2  10000  1100  Ground out of 2   Super Area                    Bandel   \n",
       "1    2  20000   800       1 out of 3   Super Area  Phool Bagan, Kankurgachi   \n",
       "2    2  17000  1000       1 out of 3   Super Area   Salt Lake City Sector 2   \n",
       "3    2  10000   800       1 out of 2   Super Area               Dumdum Park   \n",
       "4    2   7500   850       1 out of 2  Carpet Area             South Dum Dum   \n",
       "\n",
       "      City Furnishing Status  Tenant Preferred  Bathroom Point of Contact  \\\n",
       "0  Kolkata       Unfurnished  Bachelors/Family         2    Contact Owner   \n",
       "1  Kolkata    Semi-Furnished  Bachelors/Family         1    Contact Owner   \n",
       "2  Kolkata    Semi-Furnished  Bachelors/Family         1    Contact Owner   \n",
       "3  Kolkata       Unfurnished  Bachelors/Family         1    Contact Owner   \n",
       "4  Kolkata       Unfurnished         Bachelors         1    Contact Owner   \n",
       "\n",
       "  Post_Day Post_Month  \n",
       "0       18         05  \n",
       "1       13         05  \n",
       "2       16         05  \n",
       "3       04         07  \n",
       "4       09         05  "
      ]
     },
     "execution_count": 52,
     "metadata": {},
     "output_type": "execute_result"
    }
   ],
   "source": [
    "df.head()"
   ]
  },
  {
   "cell_type": "markdown",
   "metadata": {},
   "source": [
    "#### Encoding Categorical Variables with One Hot Encoding"
   ]
  },
  {
   "cell_type": "code",
   "execution_count": 73,
   "metadata": {},
   "outputs": [],
   "source": [
    "def get_one_hot_vectors(dataframe, column):\n",
    "    for i in range(len(column)):\n",
    "        y = pd.get_dummies(dataframe[column[i]], prefix = column[i])\n",
    "        dataframe = dataframe.merge(y, how='outer', left_index = True, right_index = True)\n",
    "        dataframe = dataframe.drop(column[i], axis = 1)\n",
    "        \n",
    "    return dataframe"
   ]
  },
  {
   "cell_type": "code",
   "execution_count": 74,
   "metadata": {},
   "outputs": [
    {
     "name": "stdout",
     "output_type": "stream",
     "text": [
      "Observations: 4746\n",
      "Variables: 34\n",
      "cat_cols: 16\n",
      "num_cols: 26\n",
      "cat_but_car: 2\n",
      "num_but_cat: 10\n"
     ]
    }
   ],
   "source": [
    "cat_cols, num_cols, cat_but_car = grab_col_names(df)"
   ]
  },
  {
   "cell_type": "code",
   "execution_count": 78,
   "metadata": {},
   "outputs": [
    {
     "data": {
      "text/html": [
       "<div>\n",
       "<style scoped>\n",
       "    .dataframe tbody tr th:only-of-type {\n",
       "        vertical-align: middle;\n",
       "    }\n",
       "\n",
       "    .dataframe tbody tr th {\n",
       "        vertical-align: top;\n",
       "    }\n",
       "\n",
       "    .dataframe thead th {\n",
       "        text-align: right;\n",
       "    }\n",
       "</style>\n",
       "<table border=\"1\" class=\"dataframe\">\n",
       "  <thead>\n",
       "    <tr style=\"text-align: right;\">\n",
       "      <th></th>\n",
       "      <th>BHK</th>\n",
       "      <th>Rent</th>\n",
       "      <th>Size</th>\n",
       "      <th>Floor</th>\n",
       "      <th>Bathroom</th>\n",
       "      <th>Post_Day</th>\n",
       "      <th>Size_Per_Room</th>\n",
       "      <th>Size_Mul_Room</th>\n",
       "      <th>Room_Plus_Bath</th>\n",
       "      <th>Room_Mul_Bath</th>\n",
       "      <th>...</th>\n",
       "      <th>CITY_SIZE_MEAN_947.7945823927765</th>\n",
       "      <th>CITY_SIZE_MEAN_1000.8395061728395</th>\n",
       "      <th>CITY_SIZE_MEAN_1123.8352534562212</th>\n",
       "      <th>CITY_SIZE_MAX_2175</th>\n",
       "      <th>CITY_SIZE_MIN_10</th>\n",
       "      <th>CITY_SIZE_MIN_20</th>\n",
       "      <th>CITY_SIZE_MIN_25</th>\n",
       "      <th>CITY_SIZE_MIN_50</th>\n",
       "      <th>CITY_SIZE_MIN_80</th>\n",
       "      <th>CITY_SIZE_MIN_160</th>\n",
       "    </tr>\n",
       "  </thead>\n",
       "  <tbody>\n",
       "    <tr>\n",
       "      <th>0</th>\n",
       "      <td>2</td>\n",
       "      <td>10000</td>\n",
       "      <td>1100</td>\n",
       "      <td>0</td>\n",
       "      <td>2</td>\n",
       "      <td>18</td>\n",
       "      <td>366.666667</td>\n",
       "      <td>3300</td>\n",
       "      <td>4</td>\n",
       "      <td>9</td>\n",
       "      <td>...</td>\n",
       "      <td>0</td>\n",
       "      <td>0</td>\n",
       "      <td>0</td>\n",
       "      <td>1</td>\n",
       "      <td>0</td>\n",
       "      <td>1</td>\n",
       "      <td>0</td>\n",
       "      <td>0</td>\n",
       "      <td>0</td>\n",
       "      <td>0</td>\n",
       "    </tr>\n",
       "    <tr>\n",
       "      <th>1</th>\n",
       "      <td>2</td>\n",
       "      <td>20000</td>\n",
       "      <td>800</td>\n",
       "      <td>1</td>\n",
       "      <td>1</td>\n",
       "      <td>13</td>\n",
       "      <td>266.666667</td>\n",
       "      <td>2400</td>\n",
       "      <td>3</td>\n",
       "      <td>6</td>\n",
       "      <td>...</td>\n",
       "      <td>0</td>\n",
       "      <td>0</td>\n",
       "      <td>0</td>\n",
       "      <td>1</td>\n",
       "      <td>0</td>\n",
       "      <td>1</td>\n",
       "      <td>0</td>\n",
       "      <td>0</td>\n",
       "      <td>0</td>\n",
       "      <td>0</td>\n",
       "    </tr>\n",
       "    <tr>\n",
       "      <th>2</th>\n",
       "      <td>2</td>\n",
       "      <td>17000</td>\n",
       "      <td>1000</td>\n",
       "      <td>1</td>\n",
       "      <td>1</td>\n",
       "      <td>16</td>\n",
       "      <td>333.333333</td>\n",
       "      <td>3000</td>\n",
       "      <td>3</td>\n",
       "      <td>6</td>\n",
       "      <td>...</td>\n",
       "      <td>0</td>\n",
       "      <td>0</td>\n",
       "      <td>0</td>\n",
       "      <td>1</td>\n",
       "      <td>0</td>\n",
       "      <td>1</td>\n",
       "      <td>0</td>\n",
       "      <td>0</td>\n",
       "      <td>0</td>\n",
       "      <td>0</td>\n",
       "    </tr>\n",
       "    <tr>\n",
       "      <th>3</th>\n",
       "      <td>2</td>\n",
       "      <td>10000</td>\n",
       "      <td>800</td>\n",
       "      <td>1</td>\n",
       "      <td>1</td>\n",
       "      <td>04</td>\n",
       "      <td>266.666667</td>\n",
       "      <td>2400</td>\n",
       "      <td>3</td>\n",
       "      <td>6</td>\n",
       "      <td>...</td>\n",
       "      <td>0</td>\n",
       "      <td>0</td>\n",
       "      <td>0</td>\n",
       "      <td>1</td>\n",
       "      <td>0</td>\n",
       "      <td>1</td>\n",
       "      <td>0</td>\n",
       "      <td>0</td>\n",
       "      <td>0</td>\n",
       "      <td>0</td>\n",
       "    </tr>\n",
       "    <tr>\n",
       "      <th>4</th>\n",
       "      <td>2</td>\n",
       "      <td>7500</td>\n",
       "      <td>850</td>\n",
       "      <td>1</td>\n",
       "      <td>1</td>\n",
       "      <td>09</td>\n",
       "      <td>283.333333</td>\n",
       "      <td>2550</td>\n",
       "      <td>3</td>\n",
       "      <td>6</td>\n",
       "      <td>...</td>\n",
       "      <td>0</td>\n",
       "      <td>0</td>\n",
       "      <td>0</td>\n",
       "      <td>1</td>\n",
       "      <td>0</td>\n",
       "      <td>1</td>\n",
       "      <td>0</td>\n",
       "      <td>0</td>\n",
       "      <td>0</td>\n",
       "      <td>0</td>\n",
       "    </tr>\n",
       "  </tbody>\n",
       "</table>\n",
       "<p>5 rows × 71 columns</p>\n",
       "</div>"
      ],
      "text/plain": [
       "   BHK   Rent  Size Floor  Bathroom Post_Day  Size_Per_Room  Size_Mul_Room  \\\n",
       "0    2  10000  1100     0         2       18     366.666667           3300   \n",
       "1    2  20000   800     1         1       13     266.666667           2400   \n",
       "2    2  17000  1000     1         1       16     333.333333           3000   \n",
       "3    2  10000   800     1         1       04     266.666667           2400   \n",
       "4    2   7500   850     1         1       09     283.333333           2550   \n",
       "\n",
       "   Room_Plus_Bath  Room_Mul_Bath  ...  CITY_SIZE_MEAN_947.7945823927765  \\\n",
       "0               4              9  ...                                 0   \n",
       "1               3              6  ...                                 0   \n",
       "2               3              6  ...                                 0   \n",
       "3               3              6  ...                                 0   \n",
       "4               3              6  ...                                 0   \n",
       "\n",
       "   CITY_SIZE_MEAN_1000.8395061728395  CITY_SIZE_MEAN_1123.8352534562212  \\\n",
       "0                                  0                                  0   \n",
       "1                                  0                                  0   \n",
       "2                                  0                                  0   \n",
       "3                                  0                                  0   \n",
       "4                                  0                                  0   \n",
       "\n",
       "   CITY_SIZE_MAX_2175  CITY_SIZE_MIN_10  CITY_SIZE_MIN_20  CITY_SIZE_MIN_25  \\\n",
       "0                   1                 0                 1                 0   \n",
       "1                   1                 0                 1                 0   \n",
       "2                   1                 0                 1                 0   \n",
       "3                   1                 0                 1                 0   \n",
       "4                   1                 0                 1                 0   \n",
       "\n",
       "   CITY_SIZE_MIN_50  CITY_SIZE_MIN_80  CITY_SIZE_MIN_160  \n",
       "0                 0                 0                  0  \n",
       "1                 0                 0                  0  \n",
       "2                 0                 0                  0  \n",
       "3                 0                 0                  0  \n",
       "4                 0                 0                  0  \n",
       "\n",
       "[5 rows x 71 columns]"
      ]
     },
     "execution_count": 78,
     "metadata": {},
     "output_type": "execute_result"
    }
   ],
   "source": [
    "columns = ['Area Type',\n",
    "           'City',\n",
    "           'Furnishing Status',\n",
    "           'Tenant Preferred',\n",
    "           'Point of Contact',\n",
    "           'Post_Month',\n",
    "           'Area',\n",
    "           'CITY_RENT_MEAN',\n",
    "           'CITY_RENT_MAX',\n",
    "           'CITY_RENT_MIN',\n",
    "           'CITY_SIZE_MEAN',\n",
    "           'CITY_SIZE_MAX',\n",
    "           'CITY_SIZE_MIN'      \n",
    "           ]\n",
    "df = get_one_hot_vectors(df, columns)\n",
    "df.head()"
   ]
  },
  {
   "cell_type": "markdown",
   "metadata": {},
   "source": [
    "#### Scaling"
   ]
  },
  {
   "cell_type": "code",
   "execution_count": 79,
   "metadata": {},
   "outputs": [],
   "source": [
    "rs = RobustScaler()"
   ]
  },
  {
   "cell_type": "code",
   "execution_count": 80,
   "metadata": {},
   "outputs": [],
   "source": [
    "sv = ['Rent',\n",
    "      'Size',\n",
    "      'Size_Per_Room',\n",
    "      'Size_Mul_Room',\n",
    "      'Size_Per_RoomBath',\n",
    "      'Size_Per_RoomMulBath',\n",
    "      'Size_Mean_Rat',\n",
    "      'Size_Max_Rat',\n",
    "      'Size_Min_Rat',\n",
    "     'Size_Mul_Furn',\n",
    "     'Num_Plus_Furn',\n",
    "     'Size_Mul_NumPlusFurn',\n",
    "     'Bath_Plus_Furn',\n",
    "     'Total_Num_Plus_Furn',\n",
    "     'Size_Per_Total',\n",
    "     'Floor',\n",
    "     'Post_Day'\n",
    "     ]"
   ]
  },
  {
   "cell_type": "code",
   "execution_count": 81,
   "metadata": {},
   "outputs": [
    {
     "data": {
      "text/html": [
       "<div>\n",
       "<style scoped>\n",
       "    .dataframe tbody tr th:only-of-type {\n",
       "        vertical-align: middle;\n",
       "    }\n",
       "\n",
       "    .dataframe tbody tr th {\n",
       "        vertical-align: top;\n",
       "    }\n",
       "\n",
       "    .dataframe thead th {\n",
       "        text-align: right;\n",
       "    }\n",
       "</style>\n",
       "<table border=\"1\" class=\"dataframe\">\n",
       "  <thead>\n",
       "    <tr style=\"text-align: right;\">\n",
       "      <th></th>\n",
       "      <th>BHK</th>\n",
       "      <th>Rent</th>\n",
       "      <th>Size</th>\n",
       "      <th>Floor</th>\n",
       "      <th>Bathroom</th>\n",
       "      <th>Post_Day</th>\n",
       "      <th>Size_Per_Room</th>\n",
       "      <th>Size_Mul_Room</th>\n",
       "      <th>Room_Plus_Bath</th>\n",
       "      <th>Room_Mul_Bath</th>\n",
       "      <th>...</th>\n",
       "      <th>CITY_SIZE_MEAN_947.7945823927765</th>\n",
       "      <th>CITY_SIZE_MEAN_1000.8395061728395</th>\n",
       "      <th>CITY_SIZE_MEAN_1123.8352534562212</th>\n",
       "      <th>CITY_SIZE_MAX_2175</th>\n",
       "      <th>CITY_SIZE_MIN_10</th>\n",
       "      <th>CITY_SIZE_MIN_20</th>\n",
       "      <th>CITY_SIZE_MIN_25</th>\n",
       "      <th>CITY_SIZE_MIN_50</th>\n",
       "      <th>CITY_SIZE_MIN_80</th>\n",
       "      <th>CITY_SIZE_MIN_160</th>\n",
       "    </tr>\n",
       "  </thead>\n",
       "  <tbody>\n",
       "    <tr>\n",
       "      <th>0</th>\n",
       "      <td>2</td>\n",
       "      <td>-0.260870</td>\n",
       "      <td>0.384615</td>\n",
       "      <td>-1.0</td>\n",
       "      <td>2</td>\n",
       "      <td>0.2500</td>\n",
       "      <td>0.588235</td>\n",
       "      <td>0.257378</td>\n",
       "      <td>4</td>\n",
       "      <td>9</td>\n",
       "      <td>...</td>\n",
       "      <td>0</td>\n",
       "      <td>0</td>\n",
       "      <td>0</td>\n",
       "      <td>1</td>\n",
       "      <td>0</td>\n",
       "      <td>1</td>\n",
       "      <td>0</td>\n",
       "      <td>0</td>\n",
       "      <td>0</td>\n",
       "      <td>0</td>\n",
       "    </tr>\n",
       "    <tr>\n",
       "      <th>1</th>\n",
       "      <td>2</td>\n",
       "      <td>0.173913</td>\n",
       "      <td>-0.076923</td>\n",
       "      <td>-0.5</td>\n",
       "      <td>1</td>\n",
       "      <td>-0.0625</td>\n",
       "      <td>-0.117647</td>\n",
       "      <td>-0.051476</td>\n",
       "      <td>3</td>\n",
       "      <td>6</td>\n",
       "      <td>...</td>\n",
       "      <td>0</td>\n",
       "      <td>0</td>\n",
       "      <td>0</td>\n",
       "      <td>1</td>\n",
       "      <td>0</td>\n",
       "      <td>1</td>\n",
       "      <td>0</td>\n",
       "      <td>0</td>\n",
       "      <td>0</td>\n",
       "      <td>0</td>\n",
       "    </tr>\n",
       "    <tr>\n",
       "      <th>2</th>\n",
       "      <td>2</td>\n",
       "      <td>0.043478</td>\n",
       "      <td>0.230769</td>\n",
       "      <td>-0.5</td>\n",
       "      <td>1</td>\n",
       "      <td>0.1250</td>\n",
       "      <td>0.352941</td>\n",
       "      <td>0.154427</td>\n",
       "      <td>3</td>\n",
       "      <td>6</td>\n",
       "      <td>...</td>\n",
       "      <td>0</td>\n",
       "      <td>0</td>\n",
       "      <td>0</td>\n",
       "      <td>1</td>\n",
       "      <td>0</td>\n",
       "      <td>1</td>\n",
       "      <td>0</td>\n",
       "      <td>0</td>\n",
       "      <td>0</td>\n",
       "      <td>0</td>\n",
       "    </tr>\n",
       "    <tr>\n",
       "      <th>3</th>\n",
       "      <td>2</td>\n",
       "      <td>-0.260870</td>\n",
       "      <td>-0.076923</td>\n",
       "      <td>-0.5</td>\n",
       "      <td>1</td>\n",
       "      <td>-0.6250</td>\n",
       "      <td>-0.117647</td>\n",
       "      <td>-0.051476</td>\n",
       "      <td>3</td>\n",
       "      <td>6</td>\n",
       "      <td>...</td>\n",
       "      <td>0</td>\n",
       "      <td>0</td>\n",
       "      <td>0</td>\n",
       "      <td>1</td>\n",
       "      <td>0</td>\n",
       "      <td>1</td>\n",
       "      <td>0</td>\n",
       "      <td>0</td>\n",
       "      <td>0</td>\n",
       "      <td>0</td>\n",
       "    </tr>\n",
       "    <tr>\n",
       "      <th>4</th>\n",
       "      <td>2</td>\n",
       "      <td>-0.369565</td>\n",
       "      <td>0.000000</td>\n",
       "      <td>-0.5</td>\n",
       "      <td>1</td>\n",
       "      <td>-0.3125</td>\n",
       "      <td>0.000000</td>\n",
       "      <td>0.000000</td>\n",
       "      <td>3</td>\n",
       "      <td>6</td>\n",
       "      <td>...</td>\n",
       "      <td>0</td>\n",
       "      <td>0</td>\n",
       "      <td>0</td>\n",
       "      <td>1</td>\n",
       "      <td>0</td>\n",
       "      <td>1</td>\n",
       "      <td>0</td>\n",
       "      <td>0</td>\n",
       "      <td>0</td>\n",
       "      <td>0</td>\n",
       "    </tr>\n",
       "  </tbody>\n",
       "</table>\n",
       "<p>5 rows × 71 columns</p>\n",
       "</div>"
      ],
      "text/plain": [
       "   BHK      Rent      Size  Floor  Bathroom  Post_Day  Size_Per_Room  \\\n",
       "0    2 -0.260870  0.384615   -1.0         2    0.2500       0.588235   \n",
       "1    2  0.173913 -0.076923   -0.5         1   -0.0625      -0.117647   \n",
       "2    2  0.043478  0.230769   -0.5         1    0.1250       0.352941   \n",
       "3    2 -0.260870 -0.076923   -0.5         1   -0.6250      -0.117647   \n",
       "4    2 -0.369565  0.000000   -0.5         1   -0.3125       0.000000   \n",
       "\n",
       "   Size_Mul_Room  Room_Plus_Bath  Room_Mul_Bath  ...  \\\n",
       "0       0.257378               4              9  ...   \n",
       "1      -0.051476               3              6  ...   \n",
       "2       0.154427               3              6  ...   \n",
       "3      -0.051476               3              6  ...   \n",
       "4       0.000000               3              6  ...   \n",
       "\n",
       "   CITY_SIZE_MEAN_947.7945823927765  CITY_SIZE_MEAN_1000.8395061728395  \\\n",
       "0                                 0                                  0   \n",
       "1                                 0                                  0   \n",
       "2                                 0                                  0   \n",
       "3                                 0                                  0   \n",
       "4                                 0                                  0   \n",
       "\n",
       "   CITY_SIZE_MEAN_1123.8352534562212  CITY_SIZE_MAX_2175  CITY_SIZE_MIN_10  \\\n",
       "0                                  0                   1                 0   \n",
       "1                                  0                   1                 0   \n",
       "2                                  0                   1                 0   \n",
       "3                                  0                   1                 0   \n",
       "4                                  0                   1                 0   \n",
       "\n",
       "   CITY_SIZE_MIN_20  CITY_SIZE_MIN_25  CITY_SIZE_MIN_50  CITY_SIZE_MIN_80  \\\n",
       "0                 1                 0                 0                 0   \n",
       "1                 1                 0                 0                 0   \n",
       "2                 1                 0                 0                 0   \n",
       "3                 1                 0                 0                 0   \n",
       "4                 1                 0                 0                 0   \n",
       "\n",
       "   CITY_SIZE_MIN_160  \n",
       "0                  0  \n",
       "1                  0  \n",
       "2                  0  \n",
       "3                  0  \n",
       "4                  0  \n",
       "\n",
       "[5 rows x 71 columns]"
      ]
     },
     "execution_count": 81,
     "metadata": {},
     "output_type": "execute_result"
    }
   ],
   "source": [
    "df[sv] = rs.fit_transform(df[sv])\n",
    "df.head()"
   ]
  },
  {
   "cell_type": "markdown",
   "metadata": {},
   "source": [
    "#### Modeling"
   ]
  },
  {
   "cell_type": "code",
   "execution_count": 82,
   "metadata": {},
   "outputs": [],
   "source": [
    "X = df.drop('Rent',axis=1)\n",
    "y = df['Rent']"
   ]
  },
  {
   "cell_type": "code",
   "execution_count": 83,
   "metadata": {},
   "outputs": [],
   "source": [
    "# Splitting df test and train\n",
    "X_train, X_test, y_train, y_test = train_test_split(X, y,test_size=0.2, random_state=42)"
   ]
  },
  {
   "cell_type": "code",
   "execution_count": 84,
   "metadata": {},
   "outputs": [
    {
     "name": "stdout",
     "output_type": "stream",
     "text": [
      "RMSE: 0.4108 (LR) \n",
      "RMSE: 0.4102 (Ridge) \n",
      "RMSE: 0.7046 (Lasso) \n",
      "RMSE: 0.6469 (ElasticNet) \n",
      "RMSE: 0.393 (KNN) \n",
      "RMSE: 0.5034 (CART) \n",
      "RMSE: 0.3682 (RF) \n",
      "RMSE: 0.3645 (SVR) \n",
      "RMSE: 0.358 (GBM) \n",
      "RMSE: 0.3823 (XGBoost) \n",
      "RMSE: 0.3609 (LightGBM) \n",
      "RMSE: 0.3519 (CatBoost) \n"
     ]
    }
   ],
   "source": [
    "models = [('LR', LinearRegression()),\n",
    "        (\"Ridge\", Ridge()),\n",
    "        (\"Lasso\", Lasso()),\n",
    "        (\"ElasticNet\", ElasticNet()),\n",
    "        ('KNN', KNeighborsRegressor()),\n",
    "        ('CART', DecisionTreeRegressor()),\n",
    "        ('RF', RandomForestRegressor()),\n",
    "        ('SVR', SVR()),\n",
    "        ('GBM', GradientBoostingRegressor()),\n",
    "        (\"XGBoost\", XGBRegressor(objective='reg:squarederror')),\n",
    "        (\"LightGBM\", LGBMRegressor()),\n",
    "        (\"CatBoost\", CatBoostRegressor(verbose=False))]\n",
    "\n",
    "for name, regressor in models:\n",
    "     rmse = np.mean(np.sqrt(-cross_val_score(regressor, X_train, y_train, cv=7, scoring=\"neg_mean_squared_error\")))\n",
    "     print(f\"RMSE: {round(rmse, 4)} ({name}) \")"
   ]
  },
  {
   "cell_type": "markdown",
   "metadata": {},
   "source": [
    "#### Hypermater Tuning For Cat Boost"
   ]
  },
  {
   "cell_type": "markdown",
   "metadata": {},
   "source": [
    " Hyperparameter tuning is an essential part of controlling the behavior of a machine learning model. If we don't correctly tune our hyperparameters, our estimated model parameters produce suboptimal results, as they don't minimize the loss function. This means our model makes more errors."
   ]
  },
  {
   "cell_type": "code",
   "execution_count": 85,
   "metadata": {},
   "outputs": [
    {
     "name": "stdout",
     "output_type": "stream",
     "text": [
      "Fitting 5 folds for each of 8 candidates, totalling 40 fits\n"
     ]
    }
   ],
   "source": [
    "catboost_model = CatBoostRegressor(random_state=17, verbose=False)\n",
    "catboost_params = {\"iterations\": [200, 500],\n",
    "                    \"learning_rate\": [0.01, 0.1],\n",
    "                    \"depth\": [3, 6]}\n",
    "\n",
    "catboost_best_grid = GridSearchCV(catboost_model, catboost_params, cv=5, n_jobs=-1, verbose=True).fit(X_train, y_train)\n",
    "catboost_final = catboost_model.set_params(**catboost_best_grid.best_params_, random_state=17).fit(X_train, y_train)\n",
    "rmse = np.mean(np.sqrt(-cross_val_score(catboost_final, X_train, y_train, cv=10, scoring=\"neg_mean_squared_error\")))"
   ]
  },
  {
   "cell_type": "code",
   "execution_count": 87,
   "metadata": {},
   "outputs": [],
   "source": [
    "catboost_final_pred = catboost_final.predict(X_test)"
   ]
  },
  {
   "cell_type": "code",
   "execution_count": 88,
   "metadata": {},
   "outputs": [],
   "source": [
    "MAE = metrics.mean_absolute_error(y_test, catboost_final_pred)\n",
    "MSE =  metrics.mean_squared_error(y_test, catboost_final_pred)\n",
    "RMSE =  np.sqrt(MSE)"
   ]
  },
  {
   "cell_type": "code",
   "execution_count": 89,
   "metadata": {},
   "outputs": [
    {
     "name": "stdout",
     "output_type": "stream",
     "text": [
      "MAE: 0.2194872682886521\n",
      "MSE: 0.10369789451949199\n",
      "RMSE: 0.32202157461805564\n"
     ]
    }
   ],
   "source": [
    "print('MAE:', MAE) # MEAN ABSOLUTE ERROR\n",
    "print('MSE:', MSE) # MEAN SQUARED ERROR\n",
    "print('RMSE:', RMSE) # ROOT MEAN SQUARED ERROR"
   ]
  },
  {
   "cell_type": "code",
   "execution_count": 90,
   "metadata": {},
   "outputs": [
    {
     "data": {
      "text/plain": [
       "0.8584850886172319"
      ]
     },
     "execution_count": 90,
     "metadata": {},
     "output_type": "execute_result"
    }
   ],
   "source": [
    "catboost_final.score(X_test,y_test)"
   ]
  },
  {
   "cell_type": "code",
   "execution_count": 86,
   "metadata": {},
   "outputs": [
    {
     "name": "stdout",
     "output_type": "stream",
     "text": [
      "0.34872406873675466\n"
     ]
    }
   ],
   "source": [
    "print(rmse)"
   ]
  },
  {
   "cell_type": "markdown",
   "metadata": {},
   "source": [
    "#### Feature Importance"
   ]
  },
  {
   "cell_type": "code",
   "execution_count": 91,
   "metadata": {},
   "outputs": [
    {
     "data": {
      "image/png": "[encoded data removed]",
      "text/plain": [
       "<Figure size 1080x1440 with 1 Axes>"
      ]
     },
     "metadata": {
      "needs_background": "light"
     },
     "output_type": "display_data"
    }
   ],
   "source": [
    "# Let's see if the new variables are effective.\n",
    "def plot_importance(model, features, num=len(X), save=False):\n",
    "    feature_imp = pd.DataFrame({'Value': model.feature_importances_, 'Feature': features.columns})\n",
    "    plt.figure(figsize=(15, 20))\n",
    "    sns.set(font_scale=1)\n",
    "    sns.barplot(x=\"Value\", y=\"Feature\", data=feature_imp.sort_values(by=\"Value\",\n",
    "                                                                     ascending=False)[0:num])\n",
    "    plt.title('Features')\n",
    "    plt.tight_layout()\n",
    "    plt.show()\n",
    "    if save:\n",
    "        plt.savefig('importances.png')\n",
    "        \n",
    "plot_importance(catboost_final,X)"
   ]
  },
  {
   "cell_type": "code",
   "execution_count": null,
   "metadata": {},
   "outputs": [],
   "source": []
  },
  {
   "cell_type": "code",
   "execution_count": null,
   "metadata": {},
   "outputs": [],
   "source": []
  },
  {
   "cell_type": "code",
   "execution_count": null,
   "metadata": {},
   "outputs": [],
   "source": []
  },
  {
   "cell_type": "code",
   "execution_count": null,
   "metadata": {},
   "outputs": [],
   "source": []
  }
 ],
 "metadata": {
  "kernelspec": {
   "display_name": "Python 3.9.12 ('base')",
   "language": "python",
   "name": "python3"
  },
  "language_info": {
   "codemirror_mode": {
    "name": "ipython",
    "version": 3
   },
   "file_extension": ".py",
   "mimetype": "text/x-python",
   "name": "python",
   "nbconvert_exporter": "python",
   "pygments_lexer": "ipython3",
   "version": "3.9.12"
  },
  "orig_nbformat": 4,
  "vscode": {
   "interpreter": {
    "hash": "88279d2366fe020547cde40dd65aa0e3aa662a6ec1f3ca12d88834876c85e1a6"
   }
  }
 },
 "nbformat": 4,
 "nbformat_minor": 2
}
