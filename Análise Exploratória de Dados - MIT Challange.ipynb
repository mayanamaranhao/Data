{
 "cells": [
  {
   "cell_type": "code",
   "execution_count": 59,
   "metadata": {},
   "outputs": [],
   "source": [
    "import numpy as np\n",
    "import pandas as pd\n",
    "import matplotlib.pyplot as plt\n",
    "%matplotlib inline"
   ]
  },
  {
   "cell_type": "code",
   "execution_count": 60,
   "metadata": {},
   "outputs": [
    {
     "data": {
      "text/html": [
       "<div>\n",
       "<style scoped>\n",
       "    .dataframe tbody tr th:only-of-type {\n",
       "        vertical-align: middle;\n",
       "    }\n",
       "\n",
       "    .dataframe tbody tr th {\n",
       "        vertical-align: top;\n",
       "    }\n",
       "\n",
       "    .dataframe thead th {\n",
       "        text-align: right;\n",
       "    }\n",
       "</style>\n",
       "<table border=\"1\" class=\"dataframe\">\n",
       "  <thead>\n",
       "    <tr style=\"text-align: right;\">\n",
       "      <th></th>\n",
       "      <th>dir_name</th>\n",
       "      <th>patient_number</th>\n",
       "      <th>reg</th>\n",
       "      <th>fs</th>\n",
       "      <th>sig_len</th>\n",
       "      <th>n_sig</th>\n",
       "      <th>age</th>\n",
       "      <th>sex</th>\n",
       "      <th>ECG date</th>\n",
       "      <th>Reason_for_admission</th>\n",
       "      <th>...</th>\n",
       "      <th>Therapy</th>\n",
       "      <th>Infarction_date.1</th>\n",
       "      <th>Admission_date</th>\n",
       "      <th>Medication_pre_admission</th>\n",
       "      <th>Start_lysis_therapy</th>\n",
       "      <th>Lytic_agent</th>\n",
       "      <th>Dosage</th>\n",
       "      <th>Additional_medication</th>\n",
       "      <th>In_hospital_medication</th>\n",
       "      <th>Medication_after_discharge</th>\n",
       "    </tr>\n",
       "  </thead>\n",
       "  <tbody>\n",
       "    <tr>\n",
       "      <th>0</th>\n",
       "      <td>patient001</td>\n",
       "      <td>1</td>\n",
       "      <td>s0010_re</td>\n",
       "      <td>1000</td>\n",
       "      <td>38400</td>\n",
       "      <td>15</td>\n",
       "      <td>81.0</td>\n",
       "      <td>female</td>\n",
       "      <td>01/10/1990</td>\n",
       "      <td>Myocardial infarction</td>\n",
       "      <td>...</td>\n",
       "      <td>NaN</td>\n",
       "      <td>29-Sep-90</td>\n",
       "      <td>29-Sep-90</td>\n",
       "      <td>Isosorbit-Dinitrate Digoxin Glibenclamide</td>\n",
       "      <td>19h45</td>\n",
       "      <td>Gamma-TPA</td>\n",
       "      <td>30 mg</td>\n",
       "      <td>Heparin Isosorbit-Mononitrate ASA Diazepam</td>\n",
       "      <td>ASA Isosorbit-Mononitrate Ca-antagonist Amilor...</td>\n",
       "      <td>ASA Isosorbit-Mononitrate Amiloride+Chlorothia...</td>\n",
       "    </tr>\n",
       "    <tr>\n",
       "      <th>1</th>\n",
       "      <td>patient001</td>\n",
       "      <td>1</td>\n",
       "      <td>s0014lre</td>\n",
       "      <td>1000</td>\n",
       "      <td>115200</td>\n",
       "      <td>15</td>\n",
       "      <td>81.0</td>\n",
       "      <td>female</td>\n",
       "      <td>17/10/1990</td>\n",
       "      <td>Myocardial infarction</td>\n",
       "      <td>...</td>\n",
       "      <td>NaN</td>\n",
       "      <td>29-Sep-90</td>\n",
       "      <td>29-Sep-90</td>\n",
       "      <td>Isosorbit-Dinitrate Digoxin Glibenclamide</td>\n",
       "      <td>19h45</td>\n",
       "      <td>Gamma-TPA</td>\n",
       "      <td>30 mg</td>\n",
       "      <td>Heparin Isosorbit-Mononitrate ASA Diazepam</td>\n",
       "      <td>ASA Isosorbit-Mononitrate Ca-antagonist Amilor...</td>\n",
       "      <td>ASA Isosorbit-Mononitrate Amiloride+Chlorothia...</td>\n",
       "    </tr>\n",
       "    <tr>\n",
       "      <th>2</th>\n",
       "      <td>patient001</td>\n",
       "      <td>1</td>\n",
       "      <td>s0016lre</td>\n",
       "      <td>1000</td>\n",
       "      <td>115200</td>\n",
       "      <td>15</td>\n",
       "      <td>81.0</td>\n",
       "      <td>female</td>\n",
       "      <td>18/10/1990</td>\n",
       "      <td>Myocardial infarction</td>\n",
       "      <td>...</td>\n",
       "      <td>NaN</td>\n",
       "      <td>29-Sep-90</td>\n",
       "      <td>29-Sep-90</td>\n",
       "      <td>Isosorbit-Dinitrate Digoxin Glibenclamide</td>\n",
       "      <td>19h45</td>\n",
       "      <td>Gamma-TPA</td>\n",
       "      <td>30 mg</td>\n",
       "      <td>Heparin Isosorbit-Mononitrate ASA Diazepam</td>\n",
       "      <td>ASA Isosorbit-Mononitrate Ca-antagonist Amilor...</td>\n",
       "      <td>ASA Isosorbit-Mononitrate Amiloride+Chlorothia...</td>\n",
       "    </tr>\n",
       "    <tr>\n",
       "      <th>3</th>\n",
       "      <td>patient002</td>\n",
       "      <td>2</td>\n",
       "      <td>s0015lre</td>\n",
       "      <td>1000</td>\n",
       "      <td>115200</td>\n",
       "      <td>15</td>\n",
       "      <td>58.0</td>\n",
       "      <td>female</td>\n",
       "      <td>17/10/1990</td>\n",
       "      <td>Myocardial infarction</td>\n",
       "      <td>...</td>\n",
       "      <td>NaN</td>\n",
       "      <td>NaN</td>\n",
       "      <td>NaN</td>\n",
       "      <td>NaN</td>\n",
       "      <td>NaN</td>\n",
       "      <td>NaN</td>\n",
       "      <td>NaN</td>\n",
       "      <td>NaN</td>\n",
       "      <td>NaN</td>\n",
       "      <td>NaN</td>\n",
       "    </tr>\n",
       "    <tr>\n",
       "      <th>4</th>\n",
       "      <td>patient003</td>\n",
       "      <td>3</td>\n",
       "      <td>s0017lre</td>\n",
       "      <td>1000</td>\n",
       "      <td>115200</td>\n",
       "      <td>15</td>\n",
       "      <td>63.0</td>\n",
       "      <td>male</td>\n",
       "      <td>18/10/1990</td>\n",
       "      <td>Myocardial infarction</td>\n",
       "      <td>...</td>\n",
       "      <td>NaN</td>\n",
       "      <td>02-Oct-90</td>\n",
       "      <td>02-Oct-90</td>\n",
       "      <td>-</td>\n",
       "      <td>NaN</td>\n",
       "      <td>Gamma-TPA</td>\n",
       "      <td>30 mg</td>\n",
       "      <td>Furosemide</td>\n",
       "      <td>ASA Isosorbit-Mononitrate</td>\n",
       "      <td>ASA Isosorbit-Mononitrate</td>\n",
       "    </tr>\n",
       "  </tbody>\n",
       "</table>\n",
       "<p>5 rows × 52 columns</p>\n",
       "</div>"
      ],
      "text/plain": [
       "     dir_name  patient_number       reg    fs  sig_len  n_sig   age     sex  \\\n",
       "0  patient001               1  s0010_re  1000    38400     15  81.0  female   \n",
       "1  patient001               1  s0014lre  1000   115200     15  81.0  female   \n",
       "2  patient001               1  s0016lre  1000   115200     15  81.0  female   \n",
       "3  patient002               2  s0015lre  1000   115200     15  58.0  female   \n",
       "4  patient003               3  s0017lre  1000   115200     15  63.0    male   \n",
       "\n",
       "     ECG date   Reason_for_admission  ... Therapy Infarction_date.1  \\\n",
       "0  01/10/1990  Myocardial infarction  ...     NaN         29-Sep-90   \n",
       "1  17/10/1990  Myocardial infarction  ...     NaN         29-Sep-90   \n",
       "2  18/10/1990  Myocardial infarction  ...     NaN         29-Sep-90   \n",
       "3  17/10/1990  Myocardial infarction  ...     NaN               NaN   \n",
       "4  18/10/1990  Myocardial infarction  ...     NaN         02-Oct-90   \n",
       "\n",
       "  Admission_date                   Medication_pre_admission  \\\n",
       "0      29-Sep-90  Isosorbit-Dinitrate Digoxin Glibenclamide   \n",
       "1      29-Sep-90  Isosorbit-Dinitrate Digoxin Glibenclamide   \n",
       "2      29-Sep-90  Isosorbit-Dinitrate Digoxin Glibenclamide   \n",
       "3            NaN                                        NaN   \n",
       "4      02-Oct-90                                          -   \n",
       "\n",
       "  Start_lysis_therapy Lytic_agent Dosage  \\\n",
       "0               19h45   Gamma-TPA  30 mg   \n",
       "1               19h45   Gamma-TPA  30 mg   \n",
       "2               19h45   Gamma-TPA  30 mg   \n",
       "3                 NaN         NaN    NaN   \n",
       "4                 NaN   Gamma-TPA  30 mg   \n",
       "\n",
       "                        Additional_medication  \\\n",
       "0  Heparin Isosorbit-Mononitrate ASA Diazepam   \n",
       "1  Heparin Isosorbit-Mononitrate ASA Diazepam   \n",
       "2  Heparin Isosorbit-Mononitrate ASA Diazepam   \n",
       "3                                         NaN   \n",
       "4                                  Furosemide   \n",
       "\n",
       "                              In_hospital_medication  \\\n",
       "0  ASA Isosorbit-Mononitrate Ca-antagonist Amilor...   \n",
       "1  ASA Isosorbit-Mononitrate Ca-antagonist Amilor...   \n",
       "2  ASA Isosorbit-Mononitrate Ca-antagonist Amilor...   \n",
       "3                                                NaN   \n",
       "4                          ASA Isosorbit-Mononitrate   \n",
       "\n",
       "                          Medication_after_discharge  \n",
       "0  ASA Isosorbit-Mononitrate Amiloride+Chlorothia...  \n",
       "1  ASA Isosorbit-Mononitrate Amiloride+Chlorothia...  \n",
       "2  ASA Isosorbit-Mononitrate Amiloride+Chlorothia...  \n",
       "3                                                NaN  \n",
       "4                          ASA Isosorbit-Mononitrate  \n",
       "\n",
       "[5 rows x 52 columns]"
      ]
     },
     "execution_count": 60,
     "metadata": {},
     "output_type": "execute_result"
    }
   ],
   "source": [
    "df = pd.read_csv(r\"C:\\Users\\Mayana\\Downloads\\ptbdb_clinical_data - ptbdb_clinical_data.csv\")\n",
    "df.head()"
   ]
  },
  {
   "cell_type": "code",
   "execution_count": 61,
   "metadata": {},
   "outputs": [
    {
     "name": "stdout",
     "output_type": "stream",
     "text": [
      "27 exames de pacientes 22 que têm NaN no diagnóstico\n"
     ]
    }
   ],
   "source": [
    "print(\"{} exames de pacientes {} que têm NaN no diagnóstico\".format(\n",
    "    df.loc[df.Reason_for_admission.isnull(), \"dir_name\"].size,\n",
    "    df.loc[df.Reason_for_admission.isnull(), \"dir_name\"].nunique()\n",
    "))"
   ]
  },
  {
   "cell_type": "code",
   "execution_count": 62,
   "metadata": {},
   "outputs": [
    {
     "name": "stdout",
     "output_type": "stream",
     "text": [
      "Antes: 549, Depois: 522, 27 gravações removidas\n"
     ]
    }
   ],
   "source": [
    "# Remover gravações dos diagnósticos não disponíveis\n",
    "antes = df.shape[0]\n",
    "df = df.drop(df[df.Reason_for_admission.isnull()].index)\n",
    "print(\"Antes: {}, Depois: {}, {} gravações removidas\".format(antes, df.shape[0], antes - df.shape[0]))"
   ]
  },
  {
   "cell_type": "code",
   "execution_count": 63,
   "metadata": {},
   "outputs": [
    {
     "data": {
      "text/plain": [
       "1    159\n",
       "2     24\n",
       "3     31\n",
       "4     50\n",
       "5      3\n",
       "7      1\n",
       "Name: reg, dtype: int64"
      ]
     },
     "execution_count": 63,
     "metadata": {},
     "output_type": "execute_result"
    }
   ],
   "source": [
    "df.groupby([\"dir_name\"])['reg'].nunique().value_counts().sort_index()"
   ]
  },
  {
   "cell_type": "code",
   "execution_count": 64,
   "metadata": {},
   "outputs": [
    {
     "name": "stdout",
     "output_type": "stream",
     "text": [
      "Idade não especificada para 8 pacientes\n"
     ]
    }
   ],
   "source": [
    "idade = df.groupby([\"dir_name\"])['age'].apply(lambda x: list(np.unique(x))[0])\n",
    "print(\"Idade não especificada para {} pacientes\".format(idade.isna().sum()))"
   ]
  },
  {
   "cell_type": "code",
   "execution_count": 65,
   "metadata": {},
   "outputs": [
    {
     "data": {
      "text/plain": [
       "count    260.000000\n",
       "mean      56.861538\n",
       "std       14.444811\n",
       "min       17.000000\n",
       "25%       48.000000\n",
       "50%       58.000000\n",
       "75%       67.000000\n",
       "max       87.000000\n",
       "Name: age, dtype: float64"
      ]
     },
     "execution_count": 65,
     "metadata": {},
     "output_type": "execute_result"
    }
   ],
   "source": [
    "idade.describe()"
   ]
  },
  {
   "cell_type": "code",
   "execution_count": 66,
   "metadata": {},
   "outputs": [
    {
     "data": {
      "text/plain": [
       "Text(0.5, 0, 'Idade')"
      ]
     },
     "execution_count": 66,
     "metadata": {},
     "output_type": "execute_result"
    },
    {
     "data": {
      "image/png": "[encoded data removed]",
      "text/plain": [
       "<Figure size 432x288 with 1 Axes>"
      ]
     },
     "metadata": {
      "needs_background": "light"
     },
     "output_type": "display_data"
    }
   ],
   "source": [
    "ax = idade.plot.hist(title=\"Distribuição de Idade\")\n",
    "ax.set_xlabel(\"Idade\")"
   ]
  },
  {
   "cell_type": "code",
   "execution_count": 67,
   "metadata": {},
   "outputs": [
    {
     "name": "stderr",
     "output_type": "stream",
     "text": [
      "C:\\Users\\Mayana\\AppData\\Local\\Temp/ipykernel_25484/1136312251.py:4: FutureWarning: Indexing with multiple keys (implicitly converted to a tuple of keys) will be deprecated, use a list instead.\n",
      "  groupby_diagnosis = df.groupby([\"Reason_for_admission\"])['dir_name', 'signal_duration']\n"
     ]
    },
    {
     "data": {
      "image/png": "[encoded data removed]",
      "text/plain": [
       "<Figure size 720x360 with 2 Axes>"
      ]
     },
     "metadata": {
      "needs_background": "light"
     },
     "output_type": "display_data"
    }
   ],
   "source": [
    "# Pacientes diagnosticados com alguma particularidade:\n",
    "df[\"signal_duration\"] = df[\"sig_len\"] / df[\"fs\"]\n",
    "\n",
    "groupby_diagnosis = df.groupby([\"Reason_for_admission\"])['dir_name', 'signal_duration']\n",
    "groupby_diagnosis = groupby_diagnosis.agg({\"dir_name\": 'nunique', \"signal_duration\": \"sum\"})\n",
    "\n",
    "fig, axes = plt.subplots(nrows=1, ncols=2)\n",
    "\n",
    "axes[0].yaxis.label.set_visible(False)\n",
    "axes[1].yaxis.label.set_visible(False)\n",
    "\n",
    "groupby_diagnosis[\"dir_name\"].sort_values(ascending=True).plot(ax=axes[0], kind='barh', grid=True, figsize=(10,5), \n",
    "title=\"Número de pacientes por diagnóstico\")\n",
    "\n",
    "for p in axes[0].patches:\n",
    "    axes[0].annotate(str(p.get_width()), (p.get_x() + p.get_width(), p.get_y()), xytext=(5, 0), textcoords='offset points')\n",
    "\n",
    "groupby_diagnosis[\"signal_duration\"].sort_values(ascending=True).plot(ax=axes[1], kind='barh', grid=True, figsize=(10,5), \n",
    "title=\"Tempo total de gravação por diagnóstico, seg.\")\n",
    "\n",
    "for p in axes[1].patches:\n",
    "    val = \"{:.1f}\".format(p.get_width())\n",
    "    axes[1].annotate(val, (p.get_x() + p.get_width(), p.get_y()), xytext=(5, 0), textcoords='offset points')\n",
    "    \n",
    "fig.tight_layout()\n"
   ]
  },
  {
   "cell_type": "code",
   "execution_count": 68,
   "metadata": {},
   "outputs": [],
   "source": [
    "# Infarto Agudo do Miocárdio\n",
    "df[\"myocardial_infarction\"] = (df.Reason_for_admission == \"Myocardial infarction\").astype(int)"
   ]
  },
  {
   "cell_type": "code",
   "execution_count": 69,
   "metadata": {},
   "outputs": [
    {
     "data": {
      "image/png": "[encoded data removed]",
      "text/plain": [
       "<Figure size 432x288 with 1 Axes>"
      ]
     },
     "metadata": {
      "needs_background": "light"
     },
     "output_type": "display_data"
    }
   ],
   "source": [
    "_t = df.groupby([\"myocardial_infarction\"])[\"dir_name\"].nunique()\n",
    "ax = _t.sort_values(ascending=True).plot(kind='barh', grid=True, \n",
    "title=\"Número de pacientes com Infarto do Miocárdio (1) e sem Infarto do Miocárdio (0)\")\n",
    "# ax.set_yticklabels([\"MI\", \"Non-MI\"], rotation=0)\n",
    "for p in ax.patches:\n",
    "    val = \"{:.1f}\".format(p.get_width())\n",
    "    ax.annotate(val, (p.get_x() + p.get_width(), p.get_y()), xytext=(5, 5), textcoords='offset points')"
   ]
  },
  {
   "cell_type": "code",
   "execution_count": 70,
   "metadata": {},
   "outputs": [
    {
     "data": {
      "image/png": "[encoded data removed]",
      "text/plain": [
       "<Figure size 432x288 with 1 Axes>"
      ]
     },
     "metadata": {
      "needs_background": "light"
     },
     "output_type": "display_data"
    }
   ],
   "source": [
    "_t = df.groupby([\"myocardial_infarction\"])[\"signal_duration\"].sum()\n",
    "ax = _t.sort_values(ascending=True).plot(kind='barh', grid=True, \n",
    "title=\"Tempo total de registro para pacientes com Infarto do Miocárdio (1) e sem Infarto do Miocárdio (0), seg.\")\n",
    "\n",
    "for p in ax.patches:\n",
    "    val = \"{:.1f}\".format(p.get_width())\n",
    "    ax.annotate(val, (p.get_x() + p.get_width(), p.get_y()), xytext=(5, 5), textcoords='offset points')"
   ]
  },
  {
   "cell_type": "code",
   "execution_count": 71,
   "metadata": {},
   "outputs": [
    {
     "data": {
      "text/plain": [
       "Text(0.5, 1.05, 'Distribuição de Idade por pacientes sem Infarto do Miocárdio (0) e com Infarto do Miocárdio (1)')"
      ]
     },
     "execution_count": 71,
     "metadata": {},
     "output_type": "execute_result"
    },
    {
     "data": {
      "image/png": "[encoded data removed]",
      "text/plain": [
       "<Figure size 432x288 with 2 Axes>"
      ]
     },
     "metadata": {
      "needs_background": "light"
     },
     "output_type": "display_data"
    }
   ],
   "source": [
    "df['age'].hist(by=df['myocardial_infarction'], stacked=True)\n",
    "plt.suptitle('Distribuição de Idade por pacientes sem Infarto do Miocárdio (0) e com Infarto do Miocárdio (1)', y=1.05)"
   ]
  },
  {
   "cell_type": "code",
   "execution_count": 72,
   "metadata": {},
   "outputs": [
    {
     "data": {
      "text/plain": [
       "Text(0.5, 1.05, 'Distribuição de gênero por pacientes sem Infarto do Miocárdio (0) e com Infarto do Miocárdio (1)')"
      ]
     },
     "execution_count": 72,
     "metadata": {},
     "output_type": "execute_result"
    },
    {
     "data": {
      "image/png": "[encoded data removed]",
      "text/plain": [
       "<Figure size 432x288 with 2 Axes>"
      ]
     },
     "metadata": {
      "needs_background": "light"
     },
     "output_type": "display_data"
    }
   ],
   "source": [
    "df['sex'].hist(by=df['myocardial_infarction'], stacked=True)\n",
    "plt.suptitle('Distribuição de gênero por pacientes sem Infarto do Miocárdio (0) e com Infarto do Miocárdio (1)', y=1.05)"
   ]
  },
  {
   "cell_type": "code",
   "execution_count": 74,
   "metadata": {},
   "outputs": [],
   "source": [
    "# Cardiomiopatia\n",
    "\n",
    "df[\"Cardiomyopathy\"] = (df.Reason_for_admission == \"Cardiomyopathy\").astype(int)\n"
   ]
  },
  {
   "cell_type": "code",
   "execution_count": 75,
   "metadata": {},
   "outputs": [
    {
     "data": {
      "image/png": "[encoded data removed]",
      "text/plain": [
       "<Figure size 432x288 with 1 Axes>"
      ]
     },
     "metadata": {
      "needs_background": "light"
     },
     "output_type": "display_data"
    }
   ],
   "source": [
    "_t = df.groupby([\"Cardiomyopathy\"])[\"dir_name\"].nunique()\n",
    "ax = _t.sort_values(ascending=True).plot(kind='barh', grid=True, \n",
    "title=\"Número de pacientes que foram admitidos com Cardiomiopatia(1), e sem Cardiomiopatia (0)\")\n",
    "# ax.set_yticklabels([\"MI\", \"Non-MI\"], rotation=0)\n",
    "for p in ax.patches:\n",
    "    val = \"{:.1f}\".format(p.get_width())\n",
    "    ax.annotate(val, (p.get_x() + p.get_width(), p.get_y()), xytext=(5, 5), textcoords='offset points')"
   ]
  },
  {
   "cell_type": "code",
   "execution_count": 76,
   "metadata": {},
   "outputs": [
    {
     "data": {
      "image/png": "[encoded data removed]",
      "text/plain": [
       "<Figure size 432x288 with 1 Axes>"
      ]
     },
     "metadata": {
      "needs_background": "light"
     },
     "output_type": "display_data"
    }
   ],
   "source": [
    "_t = df.groupby([\"Cardiomyopathy\"])[\"signal_duration\"].sum()\n",
    "ax = _t.sort_values(ascending=True).plot(kind='barh', grid=True, \n",
    "                                      title=\"Tempo total de registro para pacientes com \\n Cardiomiopatia (1) e sem Cardiomiopatia (0), seg.\")\n",
    "# ax.set_yticklabels([\"MI\", \"Non-MI\"], rotation=0)\n",
    "for p in ax.patches:\n",
    "    val = \"{:.1f}\".format(p.get_width())\n",
    "    ax.annotate(val, (p.get_x() + p.get_width(), p.get_y()), xytext=(5, 5), textcoords='offset points')"
   ]
  },
  {
   "cell_type": "code",
   "execution_count": 77,
   "metadata": {},
   "outputs": [
    {
     "data": {
      "text/html": [
       "<div>\n",
       "<style scoped>\n",
       "    .dataframe tbody tr th:only-of-type {\n",
       "        vertical-align: middle;\n",
       "    }\n",
       "\n",
       "    .dataframe tbody tr th {\n",
       "        vertical-align: top;\n",
       "    }\n",
       "\n",
       "    .dataframe thead th {\n",
       "        text-align: right;\n",
       "    }\n",
       "</style>\n",
       "<table border=\"1\" class=\"dataframe\">\n",
       "  <thead>\n",
       "    <tr style=\"text-align: right;\">\n",
       "      <th></th>\n",
       "      <th>dir_name</th>\n",
       "      <th>patient_number</th>\n",
       "      <th>reg</th>\n",
       "      <th>fs</th>\n",
       "      <th>sig_len</th>\n",
       "      <th>n_sig</th>\n",
       "      <th>age</th>\n",
       "      <th>sex</th>\n",
       "      <th>ECG date</th>\n",
       "      <th>Reason_for_admission</th>\n",
       "      <th>...</th>\n",
       "      <th>Medication_pre_admission</th>\n",
       "      <th>Start_lysis_therapy</th>\n",
       "      <th>Lytic_agent</th>\n",
       "      <th>Dosage</th>\n",
       "      <th>Additional_medication</th>\n",
       "      <th>In_hospital_medication</th>\n",
       "      <th>Medication_after_discharge</th>\n",
       "      <th>signal_duration</th>\n",
       "      <th>myocardial_infarction</th>\n",
       "      <th>Cardiomyopathy</th>\n",
       "    </tr>\n",
       "  </thead>\n",
       "  <tbody>\n",
       "    <tr>\n",
       "      <th>0</th>\n",
       "      <td>patient001</td>\n",
       "      <td>1</td>\n",
       "      <td>s0010_re</td>\n",
       "      <td>1000</td>\n",
       "      <td>38400</td>\n",
       "      <td>15</td>\n",
       "      <td>81.0</td>\n",
       "      <td>female</td>\n",
       "      <td>01/10/1990</td>\n",
       "      <td>Myocardial infarction</td>\n",
       "      <td>...</td>\n",
       "      <td>Isosorbit-Dinitrate Digoxin Glibenclamide</td>\n",
       "      <td>19h45</td>\n",
       "      <td>Gamma-TPA</td>\n",
       "      <td>30 mg</td>\n",
       "      <td>Heparin Isosorbit-Mononitrate ASA Diazepam</td>\n",
       "      <td>ASA Isosorbit-Mononitrate Ca-antagonist Amilor...</td>\n",
       "      <td>ASA Isosorbit-Mononitrate Amiloride+Chlorothia...</td>\n",
       "      <td>38.4</td>\n",
       "      <td>1</td>\n",
       "      <td>0</td>\n",
       "    </tr>\n",
       "    <tr>\n",
       "      <th>1</th>\n",
       "      <td>patient001</td>\n",
       "      <td>1</td>\n",
       "      <td>s0014lre</td>\n",
       "      <td>1000</td>\n",
       "      <td>115200</td>\n",
       "      <td>15</td>\n",
       "      <td>81.0</td>\n",
       "      <td>female</td>\n",
       "      <td>17/10/1990</td>\n",
       "      <td>Myocardial infarction</td>\n",
       "      <td>...</td>\n",
       "      <td>Isosorbit-Dinitrate Digoxin Glibenclamide</td>\n",
       "      <td>19h45</td>\n",
       "      <td>Gamma-TPA</td>\n",
       "      <td>30 mg</td>\n",
       "      <td>Heparin Isosorbit-Mononitrate ASA Diazepam</td>\n",
       "      <td>ASA Isosorbit-Mononitrate Ca-antagonist Amilor...</td>\n",
       "      <td>ASA Isosorbit-Mononitrate Amiloride+Chlorothia...</td>\n",
       "      <td>115.2</td>\n",
       "      <td>1</td>\n",
       "      <td>0</td>\n",
       "    </tr>\n",
       "    <tr>\n",
       "      <th>2</th>\n",
       "      <td>patient001</td>\n",
       "      <td>1</td>\n",
       "      <td>s0016lre</td>\n",
       "      <td>1000</td>\n",
       "      <td>115200</td>\n",
       "      <td>15</td>\n",
       "      <td>81.0</td>\n",
       "      <td>female</td>\n",
       "      <td>18/10/1990</td>\n",
       "      <td>Myocardial infarction</td>\n",
       "      <td>...</td>\n",
       "      <td>Isosorbit-Dinitrate Digoxin Glibenclamide</td>\n",
       "      <td>19h45</td>\n",
       "      <td>Gamma-TPA</td>\n",
       "      <td>30 mg</td>\n",
       "      <td>Heparin Isosorbit-Mononitrate ASA Diazepam</td>\n",
       "      <td>ASA Isosorbit-Mononitrate Ca-antagonist Amilor...</td>\n",
       "      <td>ASA Isosorbit-Mononitrate Amiloride+Chlorothia...</td>\n",
       "      <td>115.2</td>\n",
       "      <td>1</td>\n",
       "      <td>0</td>\n",
       "    </tr>\n",
       "    <tr>\n",
       "      <th>3</th>\n",
       "      <td>patient002</td>\n",
       "      <td>2</td>\n",
       "      <td>s0015lre</td>\n",
       "      <td>1000</td>\n",
       "      <td>115200</td>\n",
       "      <td>15</td>\n",
       "      <td>58.0</td>\n",
       "      <td>female</td>\n",
       "      <td>17/10/1990</td>\n",
       "      <td>Myocardial infarction</td>\n",
       "      <td>...</td>\n",
       "      <td>NaN</td>\n",
       "      <td>NaN</td>\n",
       "      <td>NaN</td>\n",
       "      <td>NaN</td>\n",
       "      <td>NaN</td>\n",
       "      <td>NaN</td>\n",
       "      <td>NaN</td>\n",
       "      <td>115.2</td>\n",
       "      <td>1</td>\n",
       "      <td>0</td>\n",
       "    </tr>\n",
       "    <tr>\n",
       "      <th>4</th>\n",
       "      <td>patient003</td>\n",
       "      <td>3</td>\n",
       "      <td>s0017lre</td>\n",
       "      <td>1000</td>\n",
       "      <td>115200</td>\n",
       "      <td>15</td>\n",
       "      <td>63.0</td>\n",
       "      <td>male</td>\n",
       "      <td>18/10/1990</td>\n",
       "      <td>Myocardial infarction</td>\n",
       "      <td>...</td>\n",
       "      <td>-</td>\n",
       "      <td>NaN</td>\n",
       "      <td>Gamma-TPA</td>\n",
       "      <td>30 mg</td>\n",
       "      <td>Furosemide</td>\n",
       "      <td>ASA Isosorbit-Mononitrate</td>\n",
       "      <td>ASA Isosorbit-Mononitrate</td>\n",
       "      <td>115.2</td>\n",
       "      <td>1</td>\n",
       "      <td>0</td>\n",
       "    </tr>\n",
       "  </tbody>\n",
       "</table>\n",
       "<p>5 rows × 55 columns</p>\n",
       "</div>"
      ],
      "text/plain": [
       "     dir_name  patient_number       reg    fs  sig_len  n_sig   age     sex  \\\n",
       "0  patient001               1  s0010_re  1000    38400     15  81.0  female   \n",
       "1  patient001               1  s0014lre  1000   115200     15  81.0  female   \n",
       "2  patient001               1  s0016lre  1000   115200     15  81.0  female   \n",
       "3  patient002               2  s0015lre  1000   115200     15  58.0  female   \n",
       "4  patient003               3  s0017lre  1000   115200     15  63.0    male   \n",
       "\n",
       "     ECG date   Reason_for_admission  ...  \\\n",
       "0  01/10/1990  Myocardial infarction  ...   \n",
       "1  17/10/1990  Myocardial infarction  ...   \n",
       "2  18/10/1990  Myocardial infarction  ...   \n",
       "3  17/10/1990  Myocardial infarction  ...   \n",
       "4  18/10/1990  Myocardial infarction  ...   \n",
       "\n",
       "                    Medication_pre_admission Start_lysis_therapy Lytic_agent  \\\n",
       "0  Isosorbit-Dinitrate Digoxin Glibenclamide               19h45   Gamma-TPA   \n",
       "1  Isosorbit-Dinitrate Digoxin Glibenclamide               19h45   Gamma-TPA   \n",
       "2  Isosorbit-Dinitrate Digoxin Glibenclamide               19h45   Gamma-TPA   \n",
       "3                                        NaN                 NaN         NaN   \n",
       "4                                          -                 NaN   Gamma-TPA   \n",
       "\n",
       "  Dosage                       Additional_medication  \\\n",
       "0  30 mg  Heparin Isosorbit-Mononitrate ASA Diazepam   \n",
       "1  30 mg  Heparin Isosorbit-Mononitrate ASA Diazepam   \n",
       "2  30 mg  Heparin Isosorbit-Mononitrate ASA Diazepam   \n",
       "3    NaN                                         NaN   \n",
       "4  30 mg                                  Furosemide   \n",
       "\n",
       "                              In_hospital_medication  \\\n",
       "0  ASA Isosorbit-Mononitrate Ca-antagonist Amilor...   \n",
       "1  ASA Isosorbit-Mononitrate Ca-antagonist Amilor...   \n",
       "2  ASA Isosorbit-Mononitrate Ca-antagonist Amilor...   \n",
       "3                                                NaN   \n",
       "4                          ASA Isosorbit-Mononitrate   \n",
       "\n",
       "                          Medication_after_discharge signal_duration  \\\n",
       "0  ASA Isosorbit-Mononitrate Amiloride+Chlorothia...            38.4   \n",
       "1  ASA Isosorbit-Mononitrate Amiloride+Chlorothia...           115.2   \n",
       "2  ASA Isosorbit-Mononitrate Amiloride+Chlorothia...           115.2   \n",
       "3                                                NaN           115.2   \n",
       "4                          ASA Isosorbit-Mononitrate           115.2   \n",
       "\n",
       "   myocardial_infarction Cardiomyopathy  \n",
       "0                      1              0  \n",
       "1                      1              0  \n",
       "2                      1              0  \n",
       "3                      1              0  \n",
       "4                      1              0  \n",
       "\n",
       "[5 rows x 55 columns]"
      ]
     },
     "execution_count": 77,
     "metadata": {},
     "output_type": "execute_result"
    }
   ],
   "source": [
    "df.head()"
   ]
  },
  {
   "cell_type": "code",
   "execution_count": null,
   "metadata": {},
   "outputs": [],
   "source": []
  }
 ],
 "metadata": {
  "kernelspec": {
   "display_name": "Python 3.9.7 ('base')",
   "language": "python",
   "name": "python3"
  },
  "language_info": {
   "codemirror_mode": {
    "name": "ipython",
    "version": 3
   },
   "file_extension": ".py",
   "mimetype": "text/x-python",
   "name": "python",
   "nbconvert_exporter": "python",
   "pygments_lexer": "ipython3",
   "version": "3.9.7"
  },
  "orig_nbformat": 4,
  "vscode": {
   "interpreter": {
    "hash": "2c3b31200fb4a30d12f572ae21e4d045fe8c95cb6cfa8c652e0847d465db269f"
   }
  }
 },
 "nbformat": 4,
 "nbformat_minor": 2
}
